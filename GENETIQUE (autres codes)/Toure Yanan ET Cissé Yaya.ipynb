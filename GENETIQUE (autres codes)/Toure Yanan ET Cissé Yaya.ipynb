{
 "cells": [
  {
   "cell_type": "code",
   "execution_count": null,
   "metadata": {},
   "outputs": [
    {
     "name": "stdout",
     "output_type": "stream",
     "text": [
      "\n",
      "La solution optimale : x = [3, 5, 8, 1, 3, 7, 2]  \n",
      "avec nombre de conflits : 2\n"
     ]
    }
   ],
   "source": [
    "import random as rd\n",
    "from math import *\n",
    "\n",
    "#CODE DE GENETIQUE DE CISSE YAYA ET TOURE YANAN\n",
    "\n",
    "def gene(n):\n",
    "    q=[]\n",
    "    for i in range(1,n):\n",
    "        q.append(rd.randrange(1,n+1))\n",
    "    return q\n",
    "\n",
    "#function Voin1\n",
    "def voin1(X,Y):\n",
    "    return [X[0:int(len(X)+1)]+Y[int(len(Y)+1):],Y[0:int(len(X)+1)]+X[int(len(Y)+1):]]\n",
    "\n",
    "#function de conflit\n",
    "def fun_confl(t):\n",
    "    a=0\n",
    "    for i in range(len(t)):\n",
    "        for j in range(len(t)):\n",
    "            if(t[i]==t[j] and i!=j):\n",
    "                a+=1\n",
    "            if(abs(t[i]-t[j])==abs(i-j) and i!=j):\n",
    "                a+=1\n",
    "    return a\n",
    "\n",
    "#function Voin2\n",
    "def voisin2(X):\n",
    "    x1=rd.randint(0,len(X)-1)\n",
    "    x2=rd.randint(0,len(X)-1)\n",
    "    if(fun_confl(X[:min(x1,x2)]+[X[max(x1,x2)]]+X[min(x1,x2)+1:max(x1,x2)]+[X[min(x1,x2)]]+X[max(x1,x2)+1:])<fun_confl(X) and x1!=x2):\n",
    "        return X[:min(x1,x2)]+[X[max(x1,x2)]]+X[min(x1,x2)+1:max(x1,x2)]+[X[min(x1,x2)]]+X[max(x1,x2)+1:]\n",
    "    else:\n",
    "        return X\n",
    "\n",
    "def gene_selec(X):\n",
    "    if(int(fun_confl(X)/2)>=10):\n",
    "        return False\n",
    "    return True\n",
    "\n",
    "def selection(i):\n",
    "    return [K[i],K[i+1]]\n",
    "\n",
    "# Cree n\n",
    "a=20\n",
    "b=[]\n",
    "for i in range(0,a):\n",
    "    ind=gene(8)\n",
    "    if(not(ind in b)):\n",
    "        b.append(ind)\n",
    "\n",
    "def evaluer(x):        \n",
    "    dic=dict()\n",
    "    for i in range(0,57):\n",
    "        dic[i]=[]\n",
    "    for i in range(len(x)):\n",
    "        dic[fun_confl(x[i])].append(x[i])\n",
    "    K=[]\n",
    "    for i in range(len(dic)):\n",
    "        for j in range(len(dic[i])):\n",
    "            K.append(dic[i][j])\n",
    "    return [dic,K]   \n",
    "\n",
    "term=0\n",
    "L=x\n",
    "while(term<100):\n",
    "    evaluationx,K=evaluer(x)\n",
    "    xprim=[]\n",
    "    for i in range(0,len(K),2):\n",
    "        a,b=selection(i)\n",
    "        a,b=voin1(a,b)\n",
    "        a,b=voisin2(a),voisin2(b)\n",
    "        xprim.append(a)\n",
    "        xprim.append(b)\n",
    "        L.append(a)\n",
    "        L.append(b)\n",
    "    x=xprim\n",
    "    term=term+1\n",
    "t=True\n",
    "evaluationx,x=evaluer(x)\n",
    "print(\"\\nLa solution optimale : x =\",x[0],\" \\navec nombre de conflits :\",fun_confl(x[0]))      "
   ]
  },
  {
   "cell_type": "code",
   "execution_count": null,
   "metadata": {},
   "outputs": [],
   "source": []
  },
  {
   "cell_type": "code",
   "execution_count": 3,
   "metadata": {},
   "outputs": [
    {
     "ename": "ModuleNotFoundError",
     "evalue": "No module named 'algorithme_genetique_Bello_Konate_Mohamed.py'; 'algorithme_genetique_Bello_Konate_Mohamed' is not a package",
     "output_type": "error",
     "traceback": [
      "\u001b[1;31m---------------------------------------------------------------------------\u001b[0m",
      "\u001b[1;31mModuleNotFoundError\u001b[0m                       Traceback (most recent call last)",
      "\u001b[1;32mC:\\Users\\CARLEL~1\\AppData\\Local\\Temp/ipykernel_8508/1672818134.py\u001b[0m in \u001b[0;36m<module>\u001b[1;34m\u001b[0m\n\u001b[1;32m----> 1\u001b[1;33m \u001b[1;32mimport\u001b[0m \u001b[0malgorithme_genetique_Bello_Konate_Mohamed\u001b[0m\u001b[1;33m.\u001b[0m\u001b[0mpy\u001b[0m\u001b[1;33m\u001b[0m\u001b[1;33m\u001b[0m\u001b[0m\n\u001b[0m",
      "\u001b[1;31mModuleNotFoundError\u001b[0m: No module named 'algorithme_genetique_Bello_Konate_Mohamed.py'; 'algorithme_genetique_Bello_Konate_Mohamed' is not a package"
     ]
    }
   ],
   "source": []
  }
 ],
 "metadata": {
  "kernelspec": {
   "display_name": "Python 3.10.0 64-bit",
   "language": "python",
   "name": "python3"
  },
  "language_info": {
   "codemirror_mode": {
    "name": "ipython",
    "version": 3
   },
   "file_extension": ".py",
   "mimetype": "text/x-python",
   "name": "python",
   "nbconvert_exporter": "python",
   "pygments_lexer": "ipython3",
   "version": "3.10.0"
  },
  "vscode": {
   "interpreter": {
    "hash": "d6ca2a292a4b52c4142e8bc3c5b12afae78448b15ea690b87880d9a108cd2278"
   }
  }
 },
 "nbformat": 4,
 "nbformat_minor": 4
}
